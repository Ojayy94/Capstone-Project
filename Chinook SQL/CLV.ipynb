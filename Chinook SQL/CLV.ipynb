{
 "cells": [
  {
   "cell_type": "code",
   "execution_count": 1,
   "metadata": {},
   "outputs": [
    {
     "data": {
      "text/html": [
       "<div>\n",
       "<style scoped>\n",
       "    .dataframe tbody tr th:only-of-type {\n",
       "        vertical-align: middle;\n",
       "    }\n",
       "\n",
       "    .dataframe tbody tr th {\n",
       "        vertical-align: top;\n",
       "    }\n",
       "\n",
       "    .dataframe thead th {\n",
       "        text-align: right;\n",
       "    }\n",
       "</style>\n",
       "<table border=\"1\" class=\"dataframe\">\n",
       "  <thead>\n",
       "    <tr style=\"text-align: right;\">\n",
       "      <th></th>\n",
       "      <th>CustomerId</th>\n",
       "      <th>CustomerName</th>\n",
       "      <th>LifetimeValue</th>\n",
       "    </tr>\n",
       "  </thead>\n",
       "  <tbody>\n",
       "    <tr>\n",
       "      <th>0</th>\n",
       "      <td>6</td>\n",
       "      <td>Helena, Holý</td>\n",
       "      <td>49.62</td>\n",
       "    </tr>\n",
       "    <tr>\n",
       "      <th>1</th>\n",
       "      <td>26</td>\n",
       "      <td>Richard, Cunningham</td>\n",
       "      <td>47.62</td>\n",
       "    </tr>\n",
       "    <tr>\n",
       "      <th>2</th>\n",
       "      <td>57</td>\n",
       "      <td>Luis, Rojas</td>\n",
       "      <td>46.62</td>\n",
       "    </tr>\n",
       "    <tr>\n",
       "      <th>3</th>\n",
       "      <td>45</td>\n",
       "      <td>Ladislav, Kovács</td>\n",
       "      <td>45.62</td>\n",
       "    </tr>\n",
       "    <tr>\n",
       "      <th>4</th>\n",
       "      <td>46</td>\n",
       "      <td>Hugh, O'Reilly</td>\n",
       "      <td>45.62</td>\n",
       "    </tr>\n",
       "  </tbody>\n",
       "</table>\n",
       "</div>"
      ],
      "text/plain": [
       "   CustomerId         CustomerName  LifetimeValue\n",
       "0           6         Helena, Holý          49.62\n",
       "1          26  Richard, Cunningham          47.62\n",
       "2          57          Luis, Rojas          46.62\n",
       "3          45     Ladislav, Kovács          45.62\n",
       "4          46       Hugh, O'Reilly          45.62"
      ]
     },
     "execution_count": 1,
     "metadata": {},
     "output_type": "execute_result"
    }
   ],
   "source": [
    "import sqlite3\n",
    "import pandas as pd\n",
    "\n",
    "conn = sqlite3.connect(r\"C:\\Users\\ayojo\\Desktop\\ALTSCHOOL\\Third Semester\\Project\\chinook.db\")\n",
    "\n",
    "# Finding Customer Lifetime Value and Identifying top customers based off their orders\n",
    "query = \"\"\" SELECT \n",
    "    c.CustomerId, \n",
    "    c.FirstName || ', ' || c.LastName AS CustomerName, \n",
    "    SUM(ii.UnitPrice * ii.Quantity) AS LifetimeValue\n",
    "FROM \n",
    "    customers c\n",
    "JOIN \n",
    "    invoices i ON c.CustomerId = i.CustomerId\n",
    "JOIN \n",
    "    invoice_items ii ON i.InvoiceId = ii.InvoiceId\n",
    "GROUP BY \n",
    "    c.CustomerId\n",
    "ORDER BY \n",
    "    LifetimeValue DESC;\n",
    "\"\"\"\n",
    "\n",
    "# Load the data into a pandas dataframe\n",
    "CLV = pd.read_sql(query, conn)\n",
    "\n",
    "# Call the dataframe to Power BI to generate output\n",
    "CLV.head()\n"
   ]
  }
 ],
 "metadata": {
  "kernelspec": {
   "display_name": "base",
   "language": "python",
   "name": "python3"
  },
  "language_info": {
   "codemirror_mode": {
    "name": "ipython",
    "version": 3
   },
   "file_extension": ".py",
   "mimetype": "text/x-python",
   "name": "python",
   "nbconvert_exporter": "python",
   "pygments_lexer": "ipython3",
   "version": "3.12.4"
  }
 },
 "nbformat": 4,
 "nbformat_minor": 2
}
